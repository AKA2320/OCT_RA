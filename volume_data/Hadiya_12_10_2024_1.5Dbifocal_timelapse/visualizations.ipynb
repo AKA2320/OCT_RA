{
 "cells": [
  {
   "cell_type": "code",
   "execution_count": null,
   "metadata": {},
   "outputs": [],
   "source": [
    "import pydicom as dicom\n",
    "import matplotlib.pylab as plt\n",
    "import numpy as np\n",
    "import os\n",
    "import skimage as ski\n",
    "from skimage.transform import warp, AffineTransform, pyramid_expand, pyramid_reduce\n",
    "import cv2\n",
    "import scipy\n",
    "from natsort import natsorted\n",
    "from sklearn.mixture import GaussianMixture\n",
    "\n",
    "from skimage.registration import phase_cross_correlation\n",
    "from scipy import ndimage as scp\n",
    "from tqdm import tqdm\n",
    "from skimage.metrics import normalized_root_mse as nrm\n",
    "from statsmodels.tsa.stattools import acf\n",
    "import pickle\n",
    "from sklearn.cluster import KMeans\n",
    "from sklearn.decomposition import PCA\n",
    "from scipy.fftpack import fft2, fftshift, ifft2, fft, ifft\n",
    "import time\n",
    "import math\n",
    "from skimage.exposure import equalize_hist\n",
    "from skimage.exposure import equalize_adapthist\n",
    "from skimage.feature import SIFT, match_descriptors,plot_matches\n",
    "from skimage.feature import ORB\n",
    "\n",
    "import ants.registration as ants_register\n",
    "import ants\n",
    "from scipy.optimize import minimize as minz\n",
    "from scipy import optimize\n",
    "from itertools import permutations \n",
    "from skimage.filters import threshold_otsu\n",
    "from skimage.metrics import normalized_mutual_information as nmi\n",
    "from skimage.metrics import mean_squared_error as mse\n",
    "from tifffile import imread as tiffread"
   ]
  },
  {
   "cell_type": "code",
   "execution_count": null,
   "metadata": {},
   "outputs": [],
   "source": []
  }
 ],
 "metadata": {
  "kernelspec": {
   "display_name": "ImageProc_2",
   "language": "python",
   "name": "python3"
  },
  "language_info": {
   "name": "python",
   "version": "3.11.7"
  }
 },
 "nbformat": 4,
 "nbformat_minor": 2
}
