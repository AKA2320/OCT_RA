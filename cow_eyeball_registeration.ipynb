{
 "cells": [
  {
   "cell_type": "code",
   "execution_count": 1,
   "metadata": {},
   "outputs": [],
   "source": [
    "import pydicom as dicom\n",
    "import matplotlib.pylab as plt\n",
    "import numpy as np\n",
    "import os\n",
    "import skimage as ski\n",
    "from skimage.transform import warp, AffineTransform, pyramid_expand, pyramid_reduce\n",
    "import cv2\n",
    "from natsort import natsorted\n",
    "from sklearn.mixture import GaussianMixture\n",
    "from skimage.registration import phase_cross_correlation\n",
    "from scipy import ndimage as scp\n",
    "from tqdm import tqdm\n",
    "from statsmodels.tsa.stattools import acf\n",
    "import pickle\n",
    "from sklearn.cluster import KMeans\n",
    "from sklearn.decomposition import PCA\n",
    "from scipy.fftpack import fft2, fftshift, ifft2, fft, ifft\n",
    "import time\n",
    "from skimage.exposure import equalize_hist\n",
    "from skimage.exposure import equalize_adapthist\n",
    "\n",
    "\n",
    "import ants.registration as ants_register\n",
    "import ants\n",
    "from scipy.optimize import minimize as minz\n",
    "from itertools import permutations \n",
    "from skimage.filters import threshold_otsu\n",
    "from skimage.metrics import normalized_mutual_information as nmi\n",
    "from skimage.metrics import mean_squared_error as mse"
   ]
  },
  {
   "cell_type": "code",
   "execution_count": 2,
   "metadata": {},
   "outputs": [],
   "source": [
    "\n",
    "def phase(data,mask_range=None):\n",
    "    n = data.shape[0]//2\n",
    "    if mask_range:\n",
    "        for i in tqdm(range(data.shape[0])):\n",
    "            coords = phase_cross_correlation(data[n,mask_range[0]:mask_range[1],:],data[i,mask_range[0]:mask_range[1],:],normalization=None,upsample_factor=50)[0]\n",
    "            data[i] = scp.shift(data[i],shift = (coords[0],coords[1]),mode='constant',order=3)\n",
    "    else:\n",
    "        for i in tqdm(range(data.shape[0])):\n",
    "            coords = phase_cross_correlation(data[n],data[i],normalization=None)[0]\n",
    "            data[i] = scp.shift(data[i],shift = (coords[0],coords[1]),mode='constant',order=3)\n",
    "    return data\n",
    "\n",
    "def ants_reg(stat,mov,maskk):\n",
    "    ants1 = ants.from_numpy(mov.astype(np.float64))\n",
    "    ants2 = ants.from_numpy(stat.astype(np.float64))\n",
    "    mov_mask = ants.from_numpy(maskk.astype(np.float64))\n",
    "    reg = ants_register(ants2,ants1,type_of_transform = 'Translation',moving_mask = mov_mask,\n",
    "                        mask = mov_mask,mask_all_stages=True)\n",
    "    reg_img = ants.apply_transforms(ants2, ants1, reg['fwdtransforms'],interpolator='nearestNeighbor')\n",
    "    return reg_img.numpy()\n",
    "\n",
    "def ants_reg_mapping(stat,mov,maskk):\n",
    "    ants1 = ants.from_numpy(mov.astype(np.float64))\n",
    "    ants2 = ants.from_numpy(stat.astype(np.float64))\n",
    "    mov_mask = ants.from_numpy(maskk.astype(np.float64))\n",
    "    reg = ants_register(ants2,ants1,type_of_transform = 'Rigid',moving_mask = mov_mask,mask = mov_mask,mask_all_stages=True)\n",
    "    # reg_img = ants.apply_transforms(ants2, ants1, reg['fwdtransforms'])\n",
    "    return reg['fwdtransforms']\n",
    "\n",
    "def ants_reg_translate(stat,mov,maping):\n",
    "    ants1 = ants.from_numpy(mov.astype(np.float64))\n",
    "    ants2 = ants.from_numpy(stat.astype(np.float64))\n",
    "    # mov_mask = ants.from_numpy(moving_mask.astype(np.float64))\n",
    "    # reg = ants_register(ants2,ants1,type_of_transform = 'Translation',moving_mask = mov_mask,mask = mov_mask,mask_all_stages=True)\n",
    "    reg_img = ants.apply_transforms(ants2, ants1, maping,interpolator='nearestNeighbor')\n",
    "    return reg_img.numpy()\n",
    "\n",
    "def mm(data):\n",
    "    data = (data-np.min(data))/(np.max(data)-np.min(data))\n",
    "    return data\n"
   ]
  },
  {
   "cell_type": "markdown",
   "metadata": {},
   "source": [
    "## scan1 part1"
   ]
  },
  {
   "cell_type": "code",
   "execution_count": 52,
   "metadata": {},
   "outputs": [],
   "source": [
    "    \n",
    "def mse_fun_tran(shif,x,y):\n",
    "    tform = AffineTransform(translation=(shif[0],shif[1]))\n",
    "    warped = warp(x, tform,order=3)\n",
    "    return -nmi(y,warped)\n",
    "\n",
    "    \n",
    "def upsamp(data,n):\n",
    "    data = pyramid_expand(data,upscale=n,mode='constant', cval=0,order=3)\n",
    "    return data\n",
    "\n",
    "def man_reg(data):\n",
    "    for i in range(data.shape[0]):\n",
    "        move = (minz(method='powell',fun = mse_fun_tran,x0 =(0,0),args = (upsamp(data[i,700:750,:50],4)\n",
    "                ,upsamp(data[data.shape[0]//2,700:750,:50],4)))['x'])/4\n",
    "        tform2 = AffineTransform(translation=(move[0],move[1]))\n",
    "        data[i] = warp(data[i], tform2,order=3)\n",
    "    return data\n",
    "\n",
    "def man_join_chunks(first,second):\n",
    "    move = (minz(method='powell',fun = mse_fun_tran,x0 =(0,0),args = (upsamp(second[0][700:750,:50],2)\n",
    "                ,upsamp(first[-1][700:750,:50],2)))['x'])/2\n",
    "    tform3 = AffineTransform(translation=(move[0],move[1]))\n",
    "    for i in range(len(second)):\n",
    "        second[i] = warp(second[i], tform3,order=3)\n",
    "    return second"
   ]
  },
  {
   "cell_type": "code",
   "execution_count": 43,
   "metadata": {},
   "outputs": [
    {
     "name": "stderr",
     "output_type": "stream",
     "text": [
      "100%|██████████| 810/810 [00:02<00:00, 393.31it/s]\n"
     ]
    }
   ],
   "source": [
    "path = '/Users/akapatil/Documents/OCT/cow_eyeball_time_lapse_May_30_2024/scan1/'\n",
    "pic_paths = []\n",
    "for i in os.listdir(path):\n",
    "    if i.endswith('.dcm') or  i.endswith('.DCM') or i.endswith('.PNG'):\n",
    "        pic_paths.append(i)\n",
    "pic_paths = np.array(natsorted(pic_paths))[range(0,len(pic_paths),2)]\n",
    "pic_paths = pic_paths[:810]\n",
    "\n",
    "data_scan1 = []\n",
    "for i in tqdm(pic_paths):\n",
    "    aa = dicom.dcmread(path+i).pixel_array\n",
    "    data_scan1.append(aa.copy())\n",
    "\n",
    "data_scan1 = np.array(data_scan1)\n",
    "data_scan1 = data_scan1.astype(np.float32)\n",
    "for i in range(data_scan1.shape[0]):\n",
    "    data_scan1[i] = data_scan1[i]/np.max(data_scan1[i])"
   ]
  },
  {
   "cell_type": "code",
   "execution_count": 51,
   "metadata": {},
   "outputs": [
    {
     "data": {
      "text/plain": [
       "<matplotlib.image.AxesImage at 0x17b09bd10>"
      ]
     },
     "execution_count": 51,
     "metadata": {},
     "output_type": "execute_result"
    },
    {
     "data": {
      "image/png": "[encoded data removed]",
      "text/plain": [
       "<Figure size 640x480 with 1 Axes>"
      ]
     },
     "metadata": {},
     "output_type": "display_data"
    }
   ],
   "source": [
    "plt.imshow(data_scan1[0][700:750,:50])"
   ]
  },
  {
   "cell_type": "code",
   "execution_count": 50,
   "metadata": {},
   "outputs": [
    {
     "name": "stderr",
     "output_type": "stream",
     "text": [
      "100%|██████████| 810/810 [00:51<00:00, 15.77it/s]\n"
     ]
    }
   ],
   "source": [
    "data_scan1 = phase(data_scan1,mask_range= [880,940])"
   ]
  },
  {
   "cell_type": "code",
   "execution_count": 53,
   "metadata": {},
   "outputs": [
    {
     "name": "stderr",
     "output_type": "stream",
     "text": [
      "100%|██████████| 81/81 [04:21<00:00,  3.23s/it]\n",
      "100%|██████████| 80/80 [00:30<00:00,  2.65it/s]\n"
     ]
    }
   ],
   "source": [
    "for n in tqdm(range(0,data_scan1.shape[0],10)):\n",
    "    data_scan1[n:n+10] = man_reg(data_scan1[n:n+10])\n",
    "\n",
    "for n in tqdm(range(0,data_scan1.shape[0]-10,10)):\n",
    "    data_scan1[n+10:n+20] = man_join_chunks(data_scan1[:n+10],data_scan1[n+10:n+20])"
   ]
  },
  {
   "cell_type": "code",
   "execution_count": 54,
   "metadata": {},
   "outputs": [
    {
     "data": {
      "text/plain": [
       "array([-0.0220089 , -0.01993441, -0.01950204, ...,  1.0020758 ,\n",
       "        1.0021601 ,  1.0022539 ], dtype=float32)"
      ]
     },
     "execution_count": 54,
     "metadata": {},
     "output_type": "execute_result"
    }
   ],
   "source": [
    "np.unique(data_scan1)"
   ]
  },
  {
   "cell_type": "code",
   "execution_count": 55,
   "metadata": {},
   "outputs": [],
   "source": [
    "data_scan1 = data_scan1 - np.min(data_scan1)"
   ]
  },
  {
   "cell_type": "code",
   "execution_count": 132,
   "metadata": {},
   "outputs": [
    {
     "ename": "NameError",
     "evalue": "name 'data_scan1' is not defined",
     "output_type": "error",
     "traceback": [
      "\u001b[0;31m---------------------------------------------------------------------------\u001b[0m",
      "\u001b[0;31mNameError\u001b[0m                                 Traceback (most recent call last)",
      "Cell \u001b[0;32mIn[132], line 1\u001b[0m\n\u001b[0;32m----> 1\u001b[0m plt\u001b[38;5;241m.\u001b[39mplot(\u001b[43mdata_scan1\u001b[49m[:,\u001b[38;5;241m723\u001b[39m,\u001b[38;5;241m0\u001b[39m])\n",
      "\u001b[0;31mNameError\u001b[0m: name 'data_scan1' is not defined"
     ]
    }
   ],
   "source": [
    "plt.plot(data_scan1[:,723,0])"
   ]
  },
  {
   "cell_type": "code",
   "execution_count": 22,
   "metadata": {},
   "outputs": [
    {
     "name": "stderr",
     "output_type": "stream",
     "text": [
      "810it [00:02, 322.05it/s]\n"
     ]
    }
   ],
   "source": [
    "for i,j in tqdm(enumerate(data_scan1)):\n",
    "    cv2.imwrite('cow_eyeball_time_lapse_May_30_2024/registered/scan1_part1/'+f'frame_test{i}.tiff',(j).astype(np.float32))"
   ]
  },
  {
   "cell_type": "markdown",
   "metadata": {},
   "source": [
    "## scan1 part2"
   ]
  },
  {
   "cell_type": "code",
   "execution_count": 843,
   "metadata": {},
   "outputs": [],
   "source": []
  },
  {
   "cell_type": "code",
   "execution_count": 255,
   "metadata": {},
   "outputs": [],
   "source": [
    "    \n",
    "def mse_fun_tran(shif,x,y):\n",
    "    tform = AffineTransform(translation=(shif[0],shif[1]))\n",
    "    warped = warp(x, tform,order=3).astype(np.float32)\n",
    "    return -nmi(y,warped)\n",
    "\n",
    "    \n",
    "def mse_fun_rot(rot,x,y):\n",
    "    tform = AffineTransform(rotation=(rot[0]),translation= (rot[1],rot[2]))\n",
    "    warped = warp(x, tform,order=3).astype(np.float32)\n",
    "    return mse(y,warped)\n",
    "    \n",
    "def upsamp(data,n):\n",
    "    data = pyramid_expand(data,upscale=n,mode='constant', cval=0,order=3)\n",
    "    return data\n",
    "\n",
    "def man_reg(data):\n",
    "    for i in range(data.shape[0]):\n",
    "        move = (minz(method='powell',fun = mse_fun_tran,x0 =(0,0),args = (upsamp(data[i,760:800,100:180],4)\n",
    "                ,upsamp(data[data.shape[0]//2,760:800,100:180],4)))['x'])/4\n",
    "        tform2 = AffineTransform(translation=(move[0],move[1]))\n",
    "        data[i] = warp(data[i], tform2,order=3).astype(np.float32)\n",
    "    return data\n",
    "\n",
    "def man_join_chunks(first,second):\n",
    "    move = (minz(method='powell',fun = mse_fun_tran,x0 =(0,0),args = (upsamp(second[0][760:800,100:180],2)\n",
    "                ,upsamp(first[-1][760:800,100:180],2)))['x'])/2\n",
    "    tform3 = AffineTransform(translation=(move[0],move[1]))\n",
    "    for i in range(len(second)):\n",
    "        second[i] = warp(second[i], tform3,order=3).astype(np.float32)\n",
    "    return second"
   ]
  },
  {
   "cell_type": "code",
   "execution_count": 264,
   "metadata": {},
   "outputs": [
    {
     "name": "stderr",
     "output_type": "stream",
     "text": [
      "100%|██████████| 790/790 [00:03<00:00, 241.88it/s]\n"
     ]
    }
   ],
   "source": [
    "path = '/Users/akapatil/Documents/OCT/cow_eyeball_time_lapse_May_30_2024/scan1/'\n",
    "pic_paths = []\n",
    "for i in os.listdir(path):\n",
    "    if i.endswith('.dcm') or  i.endswith('.DCM') or i.endswith('.PNG'):\n",
    "        pic_paths.append(i)\n",
    "pic_paths = np.array(natsorted(pic_paths))[range(0,len(pic_paths),2)]\n",
    "pic_paths = pic_paths[1710:]\n",
    "\n",
    "data_scan2 = []\n",
    "for i in tqdm(pic_paths):\n",
    "    aa = dicom.dcmread(path+i).pixel_array\n",
    "    data_scan2.append(aa.copy())\n",
    "\n",
    "data_scan2 = np.array(data_scan2)\n",
    "data_scan2 = data_scan2.astype(np.float32)\n",
    "for i in range(data_scan2.shape[0]):\n",
    "    data_scan2[i] = data_scan2[i]/np.max(data_scan2[i])\n"
   ]
  },
  {
   "cell_type": "code",
   "execution_count": 265,
   "metadata": {},
   "outputs": [
    {
     "name": "stderr",
     "output_type": "stream",
     "text": [
      "100%|██████████| 790/790 [00:59<00:00, 13.24it/s]\n"
     ]
    }
   ],
   "source": [
    "data_scan2 = phase(data_scan2,mask_range= [736,864])\n",
    "# # data_scan2_50 = phase(data_scan2_50,mask_range= [736,864])\n",
    "# data_scan2_110 = data_scan2[:110]\n",
    "# data_scan2_210 = data_scan2[110:210]\n",
    "# data_scan2_520 = data_scan2[210:520]\n",
    "# data_scan2_remain = data_scan2[520:]\n"
   ]
  },
  {
   "cell_type": "code",
   "execution_count": 266,
   "metadata": {},
   "outputs": [
    {
     "name": "stderr",
     "output_type": "stream",
     "text": [
      "100%|██████████| 10/10 [00:06<00:00,  1.63it/s]\n",
      "100%|██████████| 790/790 [00:57<00:00, 13.80it/s]\n",
      "100%|██████████| 79/79 [04:38<00:00,  3.53s/it]\n",
      "100%|██████████| 78/78 [00:28<00:00,  2.74it/s]\n"
     ]
    }
   ],
   "source": [
    "# [750:800,100:180]\n",
    "for i in tqdm(range(10)):\n",
    "    move = (minz(method='powell',fun = mse_fun_rot,x0 =(0,0,0),args = (data_scan2[i,750:1000,:]\n",
    "            ,data_scan2[5,750:1000,:]))['x'])\n",
    "    tform2 = AffineTransform(rotation=(move[0]),translation= (move[1],move[2]))\n",
    "    data_scan2[i] = warp(data_scan2[i], tform2,order=3).astype(np.float32)\n",
    "\n",
    "data_scan2 = phase(data_scan2,mask_range= [736,864])\n",
    "\n",
    "for n in tqdm(range(0,data_scan2.shape[0],10)):\n",
    "    data_scan2[n:n+10] = man_reg(data_scan2[n:n+10])\n",
    "\n",
    "for n in tqdm(range(0,data_scan2.shape[0]-10,10)):\n",
    "    data_scan2[n+10:n+20] = man_join_chunks(data_scan2[:n+10],data_scan2[n+10:n+20])"
   ]
  },
  {
   "cell_type": "code",
   "execution_count": null,
   "metadata": {},
   "outputs": [],
   "source": []
  },
  {
   "cell_type": "code",
   "execution_count": 267,
   "metadata": {},
   "outputs": [],
   "source": [
    "data_scan2 = data_scan2 - np.min(data_scan2)"
   ]
  },
  {
   "cell_type": "code",
   "execution_count": 235,
   "metadata": {},
   "outputs": [],
   "source": [
    "def mse_fun_rot(rot,x,y):\n",
    "    tform = AffineTransform(rotation=(rot[0]),translation= (rot[1],rot[2]))\n",
    "    warped = warp(x, tform,order=3).astype(np.float32)\n",
    "    return mse(y,warped)\n",
    "    "
   ]
  },
  {
   "cell_type": "code",
   "execution_count": 248,
   "metadata": {},
   "outputs": [],
   "source": [
    "temp = data_scan2[:20].copy()"
   ]
  },
  {
   "cell_type": "code",
   "execution_count": 254,
   "metadata": {},
   "outputs": [
    {
     "data": {
      "text/plain": [
       "array([0.00000000e+00, 1.71007719e-11, 1.99504133e-11])"
      ]
     },
     "execution_count": 254,
     "metadata": {},
     "output_type": "execute_result"
    }
   ],
   "source": [
    "(minz(method='powell',fun = mse_fun_rot,x0 =(0,0,0),args = (temp[5,750:1000,:]\n",
    "                ,temp[5,750:1000,:]))['x'])"
   ]
  },
  {
   "cell_type": "code",
   "execution_count": 250,
   "metadata": {},
   "outputs": [
    {
     "name": "stderr",
     "output_type": "stream",
     "text": [
      "100%|██████████| 10/10 [00:05<00:00,  1.75it/s]\n"
     ]
    }
   ],
   "source": [
    "for i in tqdm(range(10)):\n",
    "    move = (minz(method='powell',fun = mse_fun_rot,x0 =(0,0,0),args = (temp[i,750:1000,:]\n",
    "            ,temp[5,750:1000,:]))['x'])\n",
    "    tform2 = AffineTransform(rotation=(move[0]),translation= (move[1],move[2]))\n",
    "    temp[i] = warp(temp[i], tform2,order=3).astype(np.float32)"
   ]
  },
  {
   "cell_type": "code",
   "execution_count": 23,
   "metadata": {},
   "outputs": [],
   "source": []
  },
  {
   "cell_type": "code",
   "execution_count": 189,
   "metadata": {},
   "outputs": [],
   "source": [
    "tform2 = AffineTransform(rotation=(0.002))\n",
    "temp[1] = warp(temp[1], tform2,order=3).astype(np.float32)"
   ]
  },
  {
   "cell_type": "code",
   "execution_count": 270,
   "metadata": {},
   "outputs": [
    {
     "name": "stderr",
     "output_type": "stream",
     "text": [
      "790it [00:03, 251.83it/s]\n"
     ]
    }
   ],
   "source": [
    "for i,j in tqdm(enumerate(data_scan2)):\n",
    "    cv2.imwrite('cow_eyeball_time_lapse_May_30_2024/registered/scan1_part2/'+f'frame_test{i}.tiff',(j).astype(np.float32))"
   ]
  },
  {
   "cell_type": "markdown",
   "metadata": {},
   "source": [
    "## scan2"
   ]
  },
  {
   "cell_type": "code",
   "execution_count": 3,
   "metadata": {},
   "outputs": [],
   "source": [
    "    \n",
    "def mse_fun_tran(shif,x,y):\n",
    "    tform = AffineTransform(translation=(shif[0],shif[1]))\n",
    "    warped = warp(x, tform,order=3).astype(np.float32)\n",
    "    return -nmi(y,warped)\n",
    "\n",
    "    \n",
    "def mse_fun_rot(rot,x,y):\n",
    "    tform = AffineTransform(rotation=(rot[0]))\n",
    "    warped = warp(x, tform,order=3).astype(np.float32)\n",
    "    return -nmi(y,warped)\n",
    "    \n",
    "def upsamp(data,n):\n",
    "    data = pyramid_expand(data,upscale=n,mode='constant', cval=0,order=3)\n",
    "    return data\n",
    "\n",
    "def man_reg(data):\n",
    "    for i in range(data.shape[0]):\n",
    "        move = (minz(method='powell',fun = mse_fun_tran,x0 =(0,0),args = (upsamp(data[i,695:755,:75],4)\n",
    "                ,upsamp(data[data.shape[0]//2,695:755,:75],4)))['x'])/4\n",
    "        tform2 = AffineTransform(translation=(move[0],move[1]))\n",
    "        data[i] = warp(data[i], tform2,order=3).astype(np.float32)\n",
    "    return data\n",
    "\n",
    "def man_join_chunks(first,second):\n",
    "    move = (minz(method='powell',fun = mse_fun_tran,x0 =(0,0),args = (upsamp(second[0][695:755,:75],2)\n",
    "                ,upsamp(first[-1][695:755,:75],2)))['x'])/2\n",
    "    tform3 = AffineTransform(translation=(move[0],move[1]))\n",
    "    for i in range(len(second)):\n",
    "        second[i] = warp(second[i], tform3,order=3).astype(np.float32)\n",
    "    return second"
   ]
  },
  {
   "cell_type": "code",
   "execution_count": 4,
   "metadata": {},
   "outputs": [
    {
     "name": "stderr",
     "output_type": "stream",
     "text": [
      "100%|██████████| 2500/2500 [00:04<00:00, 534.38it/s]\n"
     ]
    }
   ],
   "source": [
    "path = '/Users/akapatil/Documents/OCT/cow_eyeball_time_lapse_May_30_2024/scan2/'\n",
    "pic_paths = []\n",
    "for i in os.listdir(path):\n",
    "    if i.endswith('.dcm') or  i.endswith('.DCM') or i.endswith('.PNG'):\n",
    "        pic_paths.append(i)\n",
    "pic_paths = np.array(natsorted(pic_paths))[range(0,len(pic_paths),2)]\n",
    "\n",
    "data_scan3 = []\n",
    "for i in tqdm(pic_paths):\n",
    "    aa = dicom.dcmread(path+i).pixel_array\n",
    "    data_scan3.append(aa.copy())\n",
    "\n",
    "data_scan3 = np.array(data_scan3)\n",
    "data_scan3 = data_scan3.astype(np.float32)\n",
    "for i in range(data_scan3.shape[0]):\n",
    "    data_scan3[i] = data_scan3[i]/np.max(data_scan3[i])\n"
   ]
  },
  {
   "cell_type": "code",
   "execution_count": 5,
   "metadata": {},
   "outputs": [
    {
     "name": "stderr",
     "output_type": "stream",
     "text": [
      "  0%|          | 0/2500 [00:00<?, ?it/s]"
     ]
    },
    {
     "name": "stderr",
     "output_type": "stream",
     "text": [
      "100%|██████████| 2500/2500 [02:36<00:00, 15.99it/s]\n"
     ]
    }
   ],
   "source": [
    "data_scan3 = phase(data_scan3,mask_range= [870,910])"
   ]
  },
  {
   "cell_type": "code",
   "execution_count": 6,
   "metadata": {},
   "outputs": [
    {
     "name": "stderr",
     "output_type": "stream",
     "text": [
      "100%|██████████| 250/250 [21:23<00:00,  5.13s/it]\n",
      "100%|██████████| 249/249 [02:00<00:00,  2.07it/s]\n"
     ]
    }
   ],
   "source": [
    "# [750:800,100:180]\n",
    "for n in tqdm(range(0,data_scan3.shape[0],10)):\n",
    "    data_scan3[n:n+10] = man_reg(data_scan3[n:n+10])\n",
    "\n",
    "for n in tqdm(range(0,data_scan3.shape[0]-10,10)):\n",
    "    data_scan3[n+10:n+20] = man_join_chunks(data_scan3[:n+10],data_scan3[n+10:n+20])"
   ]
  },
  {
   "cell_type": "code",
   "execution_count": 24,
   "metadata": {},
   "outputs": [],
   "source": [
    "data_scan3 = mm(data_scan3)"
   ]
  },
  {
   "cell_type": "code",
   "execution_count": 27,
   "metadata": {},
   "outputs": [
    {
     "name": "stderr",
     "output_type": "stream",
     "text": [
      "2500it [00:44, 56.72it/s]\n"
     ]
    }
   ],
   "source": [
    "for i,j in tqdm(enumerate(data_scan3)):\n",
    "    cv2.imwrite('cow_eyeball_time_lapse_May_30_2024/registered/scan2/'+f'frame_test{i}.tiff',(j).astype(np.float32))"
   ]
  },
  {
   "cell_type": "code",
   "execution_count": 46,
   "metadata": {},
   "outputs": [],
   "source": [
    "a = np.zeros((10,10))\n",
    "b = np.zeros((10,10))\n",
    "\n",
    "a[4:6,3:5] = 1\n",
    "b[3:5,3:5] = 1"
   ]
  },
  {
   "cell_type": "code",
   "execution_count": 59,
   "metadata": {},
   "outputs": [
    {
     "data": {
      "text/plain": [
       "(array([-1.,  0.]), 0.9792822626801733, 0.0)"
      ]
     },
     "execution_count": 59,
     "metadata": {},
     "output_type": "execute_result"
    }
   ],
   "source": [
    "phase_cross_correlation(b,a)"
   ]
  },
  {
   "cell_type": "code",
   "execution_count": 60,
   "metadata": {},
   "outputs": [
    {
     "data": {
      "text/plain": [
       "<matplotlib.image.AxesImage at 0x2244f9b90>"
      ]
     },
     "execution_count": 60,
     "metadata": {},
     "output_type": "execute_result"
    },
    {
     "data": {
      "image/png": "[encoded data removed]",
      "text/plain": [
       "<Figure size 640x480 with 1 Axes>"
      ]
     },
     "metadata": {},
     "output_type": "display_data"
    }
   ],
   "source": [
    "plt.imshow(np.angle(fftshift(fft2(a))))"
   ]
  },
  {
   "cell_type": "code",
   "execution_count": 125,
   "metadata": {},
   "outputs": [
    {
     "data": {
      "text/plain": [
       "1230"
      ]
     },
     "execution_count": 125,
     "metadata": {},
     "output_type": "execute_result"
    }
   ],
   "source": [
    "len(range(0,2500-40,2))"
   ]
  },
  {
   "cell_type": "code",
   "execution_count": 126,
   "metadata": {},
   "outputs": [
    {
     "data": {
      "text/plain": [
       "2460"
      ]
     },
     "execution_count": 126,
     "metadata": {},
     "output_type": "execute_result"
    }
   ],
   "source": [
    "1230*2"
   ]
  },
  {
   "cell_type": "code",
   "execution_count": 130,
   "metadata": {},
   "outputs": [],
   "source": [
    "batch = 1200\n",
    "mm = []\n",
    "for num in range(batch,batch+120):\n",
    "    if num*2>2500-41:\n",
    "        break\n",
    "    mm.append(num*2)\n",
    "    "
   ]
  },
  {
   "cell_type": "code",
   "execution_count": 131,
   "metadata": {},
   "outputs": [
    {
     "data": {
      "text/plain": [
       "30"
      ]
     },
     "execution_count": 131,
     "metadata": {},
     "output_type": "execute_result"
    }
   ],
   "source": [
    "len(mm)"
   ]
  },
  {
   "cell_type": "code",
   "execution_count": 56,
   "metadata": {},
   "outputs": [
    {
     "data": {
      "text/plain": [
       "<matplotlib.image.AxesImage at 0x22446f410>"
      ]
     },
     "execution_count": 56,
     "metadata": {},
     "output_type": "execute_result"
    },
    {
     "data": {
      "image/png": "[encoded data removed]",
      "text/plain": [
       "<Figure size 640x480 with 1 Axes>"
      ]
     },
     "metadata": {},
     "output_type": "display_data"
    }
   ],
   "source": [
    "plt.imshow(np.angle(fftshift(fft2(b))))"
   ]
  },
  {
   "cell_type": "markdown",
   "metadata": {},
   "source": [
    "## rgb?"
   ]
  },
  {
   "cell_type": "code",
   "execution_count": 8,
   "metadata": {},
   "outputs": [],
   "source": [
    "with open('cow_eyeball_time_lapse_May_30_2024/masks/final_sc1_part1_mask.pickle', 'rb') as handle:\n",
    "    scan1_part1 = pickle.load(handle)\n",
    "\n",
    "with open('cow_eyeball_time_lapse_May_30_2024/masks/final_sc1_part2_mask.pickle', 'rb') as handle:\n",
    "    scan1_part2 = pickle.load(handle)\n",
    "\n",
    "with open('cow_eyeball_time_lapse_May_30_2024/masks/final_sc2_mask.pickle', 'rb') as handle:\n",
    "    scan2 = pickle.load(handle)"
   ]
  },
  {
   "cell_type": "code",
   "execution_count": 9,
   "metadata": {},
   "outputs": [],
   "source": [
    "mask = np.vstack((scan1_part1,scan1_part2,scan2))\n",
    "mask = mask[:,20:-20,20:-20]\n",
    "mask = (mask-np.min(mask))/(np.max(mask)-np.min(mask))"
   ]
  },
  {
   "cell_type": "code",
   "execution_count": 10,
   "metadata": {},
   "outputs": [
    {
     "name": "stderr",
     "output_type": "stream",
     "text": [
      "100%|██████████| 760/760 [00:23<00:00, 32.59it/s]\n"
     ]
    }
   ],
   "source": [
    "for mk_idx in tqdm(range(mask.shape[0])):\n",
    "    mkmin = np.min(mask[mk_idx])\n",
    "    mkmax = np.max(mask[mk_idx])\n",
    "    mask[mk_idx] = equalize_adapthist(mask[mk_idx],clip_limit=0.4)*(mkmax-mkmin)+mkmin"
   ]
  },
  {
   "cell_type": "code",
   "execution_count": 11,
   "metadata": {},
   "outputs": [],
   "source": [
    "scan1_part1 = mask[:385]\n",
    "scan1_part2 = mask[385:]"
   ]
  },
  {
   "cell_type": "code",
   "execution_count": 12,
   "metadata": {},
   "outputs": [
    {
     "data": {
      "text/plain": [
       "array([0.924815 , 0.9248196, 0.9248242, ..., 0.9999989, 0.999999 ,\n",
       "       1.       ], dtype=float32)"
      ]
     },
     "execution_count": 12,
     "metadata": {},
     "output_type": "execute_result"
    }
   ],
   "source": [
    "np.unique(scan1_part1)"
   ]
  },
  {
   "cell_type": "code",
   "execution_count": 13,
   "metadata": {},
   "outputs": [
    {
     "data": {
      "text/plain": [
       "array([0.0000000e+00, 4.8851978e-04, 1.2212995e-03, ..., 9.9997652e-01,\n",
       "       9.9997675e-01, 1.0000000e+00], dtype=float32)"
      ]
     },
     "execution_count": 13,
     "metadata": {},
     "output_type": "execute_result"
    }
   ],
   "source": [
    "np.unique(scan1_part2)"
   ]
  },
  {
   "cell_type": "code",
   "execution_count": 15,
   "metadata": {},
   "outputs": [],
   "source": [
    "def get_rgb(mask,img,percent = 99.9):\n",
    "    # temp_mask[temp_mask>np.percentile(temp_mask,percent)]=0\n",
    "    # temp_mask = temp_mask/np.max(temp_mask)\n",
    "    h = (mask*90).astype(np.float32)\n",
    "    # h[h<70] = np.min(h)\n",
    "    s = np.full_like(mask,1).astype(np.float32)\n",
    "    v = (((img - np.min(img)) / (np.max(img) - np.min(img)))*1).astype(np.float32)\n",
    "    # v = (img/np.max(img))*255\n",
    "    hsv_img = np.dstack((h,s,v))\n",
    "    rgb_image = cv2.cvtColor(hsv_img.astype(np.float32), cv2.COLOR_HSV2RGB)\n",
    "    rgb_image[rgb_image<0] = 0\n",
    "    return rgb_image"
   ]
  },
  {
   "cell_type": "code",
   "execution_count": 16,
   "metadata": {},
   "outputs": [],
   "source": [
    "with open('pickles/cow_40_temp_all_sc1_part1.pickle', 'rb') as handle:\n",
    "    all_sc1_part1 = pickle.load(handle)\n",
    "\n",
    "with open('pickles/cow_40_temp_all_sc1_part2.pickle', 'rb') as handle:\n",
    "    all_sc1_part2 = pickle.load(handle)"
   ]
  },
  {
   "cell_type": "code",
   "execution_count": 17,
   "metadata": {},
   "outputs": [],
   "source": [
    "all_sc1_part1 = all_sc1_part1[:,20:-20,20:-20]\n",
    "all_sc1_part2 = all_sc1_part2[:,20:-20,20:-20]"
   ]
  },
  {
   "cell_type": "code",
   "execution_count": 18,
   "metadata": {},
   "outputs": [
    {
     "name": "stderr",
     "output_type": "stream",
     "text": [
      "100%|██████████| 385/385 [00:07<00:00, 48.75it/s]\n",
      "100%|██████████| 375/375 [00:14<00:00, 26.55it/s]\n"
     ]
    }
   ],
   "source": [
    "all_rgb_sc1_part1 = np.zeros((scan1_part1.shape[0],all_sc1_part1.shape[1],all_sc1_part1.shape[2],3),dtype=np.float32)\n",
    "for i in tqdm(range(scan1_part1.shape[0])):\n",
    "    all_rgb_sc1_part1[i] = get_rgb(scan1_part1[i],all_sc1_part1[i]).astype(np.float32)\n",
    "\n",
    "all_rgb_sc1_part2 = np.zeros((scan1_part2.shape[0],all_sc1_part2.shape[1],all_sc1_part2.shape[2],3),dtype=np.float32)\n",
    "for i in tqdm(range(scan1_part2.shape[0])):\n",
    "    all_rgb_sc1_part2[i] = get_rgb(scan1_part2[i],all_sc1_part2[i]).astype(np.float32)"
   ]
  },
  {
   "cell_type": "code",
   "execution_count": 19,
   "metadata": {},
   "outputs": [
    {
     "name": "stderr",
     "output_type": "stream",
     "text": [
      "385it [00:13, 29.19it/s]\n",
      "375it [00:08, 45.04it/s]\n"
     ]
    }
   ],
   "source": [
    "for i,j in tqdm(enumerate(all_rgb_sc1_part1)):\n",
    "    cv2.imwrite('cow_eyeball_time_lapse_May_30_2024/masks/rgb/sc1_part1/'+f'masks{i}.PNG',cv2.cvtColor(j, cv2.COLOR_RGB2BGR)*255)\n",
    "\n",
    "for i,j in tqdm(enumerate(all_rgb_sc1_part2)):\n",
    "    cv2.imwrite('cow_eyeball_time_lapse_May_30_2024/masks/rgb/sc1_part2/'+f'masks{i}.PNG',cv2.cvtColor(j, cv2.COLOR_RGB2BGR)*255)"
   ]
  },
  {
   "cell_type": "markdown",
   "metadata": {},
   "source": [
    "# random"
   ]
  },
  {
   "cell_type": "code",
   "execution_count": 161,
   "metadata": {},
   "outputs": [],
   "source": [
    "def load_data(path_num):\n",
    "    if (path_num==0) or (path_num=='sc1_part1'):\n",
    "        path = '../data/cow_sc1_part1/'\n",
    "    elif (path_num==1) or (path_num=='sc1_part2'):\n",
    "        path = 'cow_eyeball_time_lapse_May_30_2024/registered/scan1_part2/'\n",
    "    elif (path_num==2) or (path_num=='sc2'):\n",
    "        path = '../data/cow_sc2/'\n",
    "    pic_paths = []\n",
    "    for i in os.listdir(path):\n",
    "        if i.endswith('.dcm') or  i.endswith('.tiff') or i.endswith('.PNG'):\n",
    "            pic_paths.append(i)\n",
    "    pic_paths = natsorted(pic_paths)[:40]\n",
    "\n",
    "    temp_img = cv2.imread(path+pic_paths[0],cv2.IMREAD_UNCHANGED) \n",
    "    pics_without_line = np.zeros((len(pic_paths),temp_img.shape[0],temp_img.shape[1]))\n",
    "    # pics_without_line = []\n",
    "    for i,j in enumerate(pic_paths):\n",
    "        aa = cv2.imread(path+j,cv2.IMREAD_UNCHANGED)\n",
    "        pics_without_line[i]=(aa.copy())\n",
    "    pics_without_line = pics_without_line.astype(np.float32)\n",
    "    return pics_without_line"
   ]
  },
  {
   "cell_type": "code",
   "execution_count": 162,
   "metadata": {},
   "outputs": [],
   "source": [
    "mm = load_data(1)\n"
   ]
  },
  {
   "cell_type": "code",
   "execution_count": 207,
   "metadata": {},
   "outputs": [],
   "source": [
    "tp = mm[:,903,309]"
   ]
  },
  {
   "cell_type": "code",
   "execution_count": 208,
   "metadata": {},
   "outputs": [
    {
     "data": {
      "text/plain": [
       "[<matplotlib.lines.Line2D at 0x225932bd0>]"
      ]
     },
     "execution_count": 208,
     "metadata": {},
     "output_type": "execute_result"
    },
    {
     "data": {
      "image/png": "[encoded data removed]",
      "text/plain": [
       "<Figure size 640x480 with 1 Axes>"
      ]
     },
     "metadata": {},
     "output_type": "display_data"
    }
   ],
   "source": [
    "plt.plot(mm[:,703,309])"
   ]
  },
  {
   "cell_type": "code",
   "execution_count": 209,
   "metadata": {},
   "outputs": [
    {
     "data": {
      "text/plain": [
       "[<matplotlib.lines.Line2D at 0x2259ae450>]"
      ]
     },
     "execution_count": 209,
     "metadata": {},
     "output_type": "execute_result"
    },
    {
     "data": {
      "image/png": "[encoded data removed]",
      "text/plain": [
       "<Figure size 640x480 with 1 Axes>"
      ]
     },
     "metadata": {},
     "output_type": "display_data"
    }
   ],
   "source": [
    "plt.plot(mm[:,903,309])"
   ]
  },
  {
   "cell_type": "code",
   "execution_count": 210,
   "metadata": {},
   "outputs": [
    {
     "data": {
      "text/plain": [
       "375"
      ]
     },
     "execution_count": 210,
     "metadata": {},
     "output_type": "execute_result"
    }
   ],
   "source": [
    "len(range(0,790-40,2))"
   ]
  },
  {
   "cell_type": "code",
   "execution_count": 211,
   "metadata": {},
   "outputs": [],
   "source": [
    "import pandas as pd"
   ]
  },
  {
   "cell_type": "code",
   "execution_count": 215,
   "metadata": {},
   "outputs": [
    {
     "data": {
      "text/plain": [
       "385"
      ]
     },
     "execution_count": 215,
     "metadata": {},
     "output_type": "execute_result"
    }
   ],
   "source": [
    "len(range(0,810-40,2))"
   ]
  },
  {
   "cell_type": "code",
   "execution_count": 212,
   "metadata": {},
   "outputs": [],
   "source": [
    "s = pd.Series(tp)"
   ]
  },
  {
   "cell_type": "code",
   "execution_count": 213,
   "metadata": {},
   "outputs": [
    {
     "data": {
      "text/plain": [
       "[<matplotlib.lines.Line2D at 0x225a21d90>]"
      ]
     },
     "execution_count": 213,
     "metadata": {},
     "output_type": "execute_result"
    },
    {
     "data": {
      "image/png": "[encoded data removed]",
      "text/plain": [
       "<Figure size 640x480 with 1 Axes>"
      ]
     },
     "metadata": {},
     "output_type": "display_data"
    }
   ],
   "source": [
    "plt.plot(np.abs([s.autocorr(lag=i) for i in range(10) ]))"
   ]
  },
  {
   "cell_type": "code",
   "execution_count": 203,
   "metadata": {},
   "outputs": [
    {
     "data": {
      "text/plain": [
       "[<matplotlib.lines.Line2D at 0x22574ff90>]"
      ]
     },
     "execution_count": 203,
     "metadata": {},
     "output_type": "execute_result"
    },
    {
     "data": {
      "image/png": "[encoded data removed]",
      "text/plain": [
       "<Figure size 640x480 with 1 Axes>"
      ]
     },
     "metadata": {},
     "output_type": "display_data"
    }
   ],
   "source": [
    "plt.plot(tp)"
   ]
  },
  {
   "cell_type": "code",
   "execution_count": 840,
   "metadata": {},
   "outputs": [],
   "source": [
    "# 736+128, 864"
   ]
  },
  {
   "cell_type": "code",
   "execution_count": 81,
   "metadata": {},
   "outputs": [],
   "source": [
    "# x = 934+42\n",
    "# y = 335+46"
   ]
  },
  {
   "cell_type": "code",
   "execution_count": 82,
   "metadata": {},
   "outputs": [],
   "source": [
    "# plt.imshow(data_scan2[-1][750:810,:],cmap='gray')"
   ]
  },
  {
   "cell_type": "code",
   "execution_count": 362,
   "metadata": {},
   "outputs": [],
   "source": [
    "def reg(data,maskk):\n",
    "    reg_after_drop1 = []\n",
    "    n = data.shape[0]//2\n",
    "    for i in tqdm(range(0,data.shape[0])):\n",
    "        regis = ants_reg(data[n],data[i],maskk)\n",
    "        reg_after_drop1.append(regis)\n",
    "    reg_after_drop1 = np.array(reg_after_drop1)\n",
    "    return reg_after_drop1"
   ]
  },
  {
   "cell_type": "code",
   "execution_count": 411,
   "metadata": {},
   "outputs": [],
   "source": [
    "moving_mask = np.zeros_like(data_scan2_remain[0])\n",
    "# moving_mask[750:850,:] = 1\n",
    "moving_mask[750:800,100:180] = 1"
   ]
  },
  {
   "cell_type": "code",
   "execution_count": 223,
   "metadata": {},
   "outputs": [
    {
     "data": {
      "text/plain": [
       "array([[0., 0., 0., ..., 0., 0., 0.],\n",
       "       [0., 0., 0., ..., 0., 0., 0.],\n",
       "       [0., 0., 0., ..., 0., 0., 0.],\n",
       "       ...,\n",
       "       [0., 0., 0., ..., 0., 0., 0.],\n",
       "       [0., 0., 0., ..., 0., 0., 0.],\n",
       "       [0., 0., 0., ..., 0., 0., 0.]], dtype=float32)"
      ]
     },
     "execution_count": 223,
     "metadata": {},
     "output_type": "execute_result"
    }
   ],
   "source": [
    "moving_mask"
   ]
  },
  {
   "cell_type": "code",
   "execution_count": 224,
   "metadata": {},
   "outputs": [
    {
     "name": "stderr",
     "output_type": "stream",
     "text": [
      "100%|██████████| 110/110 [00:32<00:00,  3.34it/s]\n"
     ]
    }
   ],
   "source": [
    "# regi = reg(data_scan2,moving_mask)\n",
    "\n",
    "# data_scan2_50 = reg(data_scan2_50,moving_mask)\n",
    "data_scan2_110 = reg(data_scan2_110,moving_mask)\n",
    "# data_scan2_210 = reg(data_scan2_210,moving_mask)\n",
    "# data_scan2_520 = reg(data_scan2_520,moving_mask)\n",
    "# data_scan2_remain = reg(data_scan2_remain,moving_mask)"
   ]
  },
  {
   "cell_type": "code",
   "execution_count": 415,
   "metadata": {},
   "outputs": [],
   "source": [
    "def join_chunks(first,second,moving_mask):\n",
    "    test0_1 = []\n",
    "    map0_1 = ants_reg_mapping(second[0],first[-1],moving_mask)\n",
    "    for i in tqdm(range(len(first))):\n",
    "        test0_1.append(ants_reg_translate(second[0],first[i],map0_1))\n",
    "    for i in tqdm(range(second.shape[0])):\n",
    "        test0_1.append(second[i])\n",
    "    return test0_1\n"
   ]
  },
  {
   "cell_type": "code",
   "execution_count": 70,
   "metadata": {},
   "outputs": [
    {
     "name": "stderr",
     "output_type": "stream",
     "text": [
      "100%|██████████| 50/50 [00:00<00:00, 163.89it/s]\n",
      "100%|██████████| 60/60 [00:00<00:00, 858901.84it/s]\n",
      "100%|██████████| 110/110 [00:00<00:00, 170.15it/s]\n",
      "100%|██████████| 100/100 [00:00<00:00, 1278751.22it/s]\n",
      "100%|██████████| 210/210 [00:01<00:00, 170.68it/s]\n",
      "100%|██████████| 310/310 [00:00<00:00, 1878951.21it/s]\n",
      "100%|██████████| 520/520 [00:03<00:00, 171.37it/s]\n",
      "100%|██████████| 270/270 [00:00<00:00, 1442626.85it/s]\n"
     ]
    }
   ],
   "source": [
    "a = join_chunks(join_chunks(join_chunks(join_chunks(data_scan2_50,data_scan2_110),data_scan2_210),data_scan2_520),data_scan2_remain)"
   ]
  },
  {
   "cell_type": "code",
   "execution_count": 71,
   "metadata": {},
   "outputs": [],
   "source": [
    "# test0_1 = []\n",
    "# map0_1 = ants_reg_mapping(data_scan2_110[0],data_scan2_50[-1],moving_mask)\n",
    "# for i in tqdm(range(data_scan2_50.shape[0])):\n",
    "#     test0_1.append(ants_reg_translate(data_scan2_110[0],data_scan2_50[i],map0_1))\n",
    "# for i in tqdm(range(data_scan2_110.shape[0])):\n",
    "#     test0_1.append(data_scan2_110[i])\n",
    "\n",
    "# test0 = []\n",
    "# map0 = ants_reg_mapping(data_scan2_210[0],test0_1[-1],moving_mask)\n",
    "# for i in tqdm(range(len(test0_1))):\n",
    "#     test0.append(ants_reg_translate(data_scan2_210[0],test0_1[i],map0))\n",
    "# for i in tqdm(range(data_scan2_210.shape[0])):\n",
    "#     test0.append(data_scan2_210[i])\n",
    "\n",
    "# del test0_1\n",
    "\n",
    "# test1 = []\n",
    "# map1 = ants_reg_mapping(data_scan2_520[0],test0[-1],moving_mask)\n",
    "# for i in tqdm(range(len(test0))):\n",
    "#     test1.append(ants_reg_translate(data_scan2_520[0],test0[i],map1))\n",
    "# for i in tqdm(range(data_scan2_520.shape[0])):\n",
    "#     test1.append(data_scan2_520[i])\n",
    "\n",
    "# del test0\n",
    "\n",
    "# test2=[]\n",
    "# map2 = ants_reg_mapping(data_scan2_remain[0],test1[-1],moving_mask)\n",
    "# for i in tqdm(range(len(test1))):\n",
    "#     test2.append(ants_reg_translate(data_scan2_remain[0],test1[i],map2))\n",
    "# for i in tqdm(range(data_scan2_remain.shape[0])):\n",
    "#     test2.append(data_scan2_remain[i])\n",
    "\n",
    "# del test1"
   ]
  },
  {
   "cell_type": "code",
   "execution_count": 841,
   "metadata": {},
   "outputs": [
    {
     "name": "stderr",
     "output_type": "stream",
     "text": [
      "790it [00:02, 311.84it/s]\n"
     ]
    }
   ],
   "source": [
    "for i,j in tqdm(enumerate(data_scan2)):\n",
    "    cv2.imwrite('/Users/akapatil/Documents/OCT/cow_eyeball_time_lapse_May_30_2024/test/'+f'frame_test{i}.tiff',(j).astype(np.float32))"
   ]
  },
  {
   "cell_type": "code",
   "execution_count": 344,
   "metadata": {},
   "outputs": [],
   "source": [
    "from skimage.metrics import normalized_mutual_information as nmi\n",
    "from skimage.metrics import mean_squared_error as mse\n",
    "from scipy.optimize import minimize as minz"
   ]
  },
  {
   "cell_type": "code",
   "execution_count": 354,
   "metadata": {},
   "outputs": [],
   "source": [
    "import itertools\n",
    "a = np.arange(-2,2,0.1)\n",
    "b = np.arange(-2,2,0.1)\n",
    "c = list(itertools.product(a, b))"
   ]
  },
  {
   "cell_type": "code",
   "execution_count": 366,
   "metadata": {},
   "outputs": [],
   "source": []
  },
  {
   "cell_type": "code",
   "execution_count": 296,
   "metadata": {},
   "outputs": [
    {
     "name": "stderr",
     "output_type": "stream",
     "text": [
      "100%|██████████| 110/110 [00:01<00:00, 95.32it/s]\n",
      "100%|██████████| 100/100 [00:01<00:00, 89.84it/s]\n",
      "100%|██████████| 310/310 [00:03<00:00, 92.08it/s]\n",
      "100%|██████████| 270/270 [00:03<00:00, 85.54it/s]\n"
     ]
    }
   ],
   "source": [
    "# data_scan2_110 = phase(data_scan2_110,mask_range= [736,864])\n",
    "# data_scan2_210 = phase(data_scan2_210,mask_range= [736,864])\n",
    "# data_scan2_520 = phase(data_scan2_520,mask_range= [736,864])\n",
    "# data_scan2_remain = phase(data_scan2_remain,mask_range= [736,864])"
   ]
  },
  {
   "cell_type": "code",
   "execution_count": null,
   "metadata": {},
   "outputs": [],
   "source": [
    "chunks = "
   ]
  },
  {
   "cell_type": "code",
   "execution_count": 377,
   "metadata": {},
   "outputs": [
    {
     "name": "stderr",
     "output_type": "stream",
     "text": [
      " 11%|█         | 12/110 [00:02<00:18,  5.44it/s]"
     ]
    },
    {
     "name": "stdout",
     "output_type": "stream",
     "text": [
      "[0. 0.]\n"
     ]
    },
    {
     "name": "stderr",
     "output_type": "stream",
     "text": [
      " 14%|█▎        | 15/110 [00:02<00:18,  5.09it/s]"
     ]
    },
    {
     "name": "stdout",
     "output_type": "stream",
     "text": [
      "[0. 0.]\n"
     ]
    },
    {
     "name": "stderr",
     "output_type": "stream",
     "text": [
      " 35%|███▌      | 39/110 [00:07<00:13,  5.25it/s]"
     ]
    },
    {
     "name": "stdout",
     "output_type": "stream",
     "text": [
      "[0. 0.]\n"
     ]
    },
    {
     "name": "stderr",
     "output_type": "stream",
     "text": [
      " 43%|████▎     | 47/110 [00:08<00:12,  5.10it/s]"
     ]
    },
    {
     "name": "stdout",
     "output_type": "stream",
     "text": [
      "[0. 0.]\n"
     ]
    },
    {
     "name": "stderr",
     "output_type": "stream",
     "text": [
      " 45%|████▍     | 49/110 [00:09<00:11,  5.10it/s]"
     ]
    },
    {
     "name": "stdout",
     "output_type": "stream",
     "text": [
      "[0. 0.]\n"
     ]
    },
    {
     "name": "stderr",
     "output_type": "stream",
     "text": [
      " 49%|████▉     | 54/110 [00:10<00:11,  5.08it/s]"
     ]
    },
    {
     "name": "stdout",
     "output_type": "stream",
     "text": [
      "[0. 0.]\n"
     ]
    },
    {
     "name": "stderr",
     "output_type": "stream",
     "text": [
      " 51%|█████     | 56/110 [00:10<00:10,  5.24it/s]"
     ]
    },
    {
     "name": "stdout",
     "output_type": "stream",
     "text": [
      "[0. 0.]\n"
     ]
    },
    {
     "name": "stderr",
     "output_type": "stream",
     "text": [
      " 91%|█████████ | 100/110 [00:18<00:01,  5.08it/s]"
     ]
    },
    {
     "name": "stdout",
     "output_type": "stream",
     "text": [
      "[0. 0.]\n"
     ]
    },
    {
     "name": "stderr",
     "output_type": "stream",
     "text": [
      "100%|██████████| 110/110 [00:20<00:00,  5.36it/s]\n"
     ]
    }
   ],
   "source": [
    "for i in tqdm(range(data_scan2_110.shape[0])):\n",
    "    move = minz(method='powell',fun = mse_fun,x0 =(0,0),args = (data_scan2_110[i][750:800,100:180]\n",
    "            ,data_scan2_110[data_scan2_110.shape[0]//2][750:800,100:180]))['x']\n",
    "    data_scan2_110[i] = scp.shift(data_scan2_110[i],shift = (move[0],move[1]),order=5,mode='constant')\n",
    "\n",
    "# for i in tqdm(range(data_scan2_210.shape[0])):\n",
    "#     move = minz(method='powell',fun = mse_fun,x0 =(0,0),args = (data_scan2_210[i][750:800,100:180]\n",
    "#             ,data_scan2_210[data_scan2_210.shape[0]//2][750:800,100:180]))['x']\n",
    "#     data_scan2_210[i] = scp.shift(data_scan2_210[i],shift = (move[0],move[1]),order=5,mode='constant')\n",
    "\n",
    "# for i in tqdm(range(data_scan2_520.shape[0])):\n",
    "#     move = minz(method='powell',fun = mse_fun,x0 =(0,0),args = (data_scan2_520[i][750:800,100:180]\n",
    "#             ,data_scan2_520[data_scan2_520.shape[0]//2][750:800,100:180]))['x']\n",
    "#     data_scan2_520[i] = scp.shift(data_scan2_520[i],shift = (move[0],move[1]),order=5,mode='constant')\n",
    "\n",
    "# for i in tqdm(range(data_scan2_remain.shape[0])):\n",
    "#     move = minz(method='powell',fun = mse_fun,x0 =(0,0),args = (data_scan2_remain[i][750:800,100:180]\n",
    "#             ,data_scan2_remain[data_scan2_remain.shape[0]//2][750:800,100:180]))['x']\n",
    "#     data_scan2_remain[i] = scp.shift(data_scan2_remain[i],shift = (move[0],move[1]),order=5,mode='constant')\n"
   ]
  },
  {
   "cell_type": "code",
   "execution_count": 381,
   "metadata": {},
   "outputs": [
    {
     "data": {
      "text/plain": [
       "(50, 80)"
      ]
     },
     "execution_count": 381,
     "metadata": {},
     "output_type": "execute_result"
    }
   ],
   "source": [
    "data_scan2_110[20][750:800,100:180].shape"
   ]
  },
  {
   "cell_type": "code",
   "execution_count": 410,
   "metadata": {},
   "outputs": [
    {
     "data": {
      "text/plain": [
       "<matplotlib.image.AxesImage at 0x1f2ee5690>"
      ]
     },
     "execution_count": 410,
     "metadata": {},
     "output_type": "execute_result"
    },
    {
     "data": {
      "image/png": "[encoded data removed]",
      "text/plain": [
       "<Figure size 640x480 with 1 Axes>"
      ]
     },
     "metadata": {},
     "output_type": "display_data"
    }
   ],
   "source": [
    "plt.imshow((cv2.pyrUp(data_scan2_110[22][750:800,100:180])),cmap='gray')"
   ]
  },
  {
   "cell_type": "code",
   "execution_count": null,
   "metadata": {},
   "outputs": [],
   "source": []
  },
  {
   "cell_type": "code",
   "execution_count": 355,
   "metadata": {},
   "outputs": [],
   "source": [
    "mm = []\n",
    "for i,j in c:\n",
    "    shift_new = scp.shift(data_scan2_110[4],(i,j),order=5,mode='constant')\n",
    "    ssd = mse(data_scan2_110[50][750:800,100:180],shift_new[750:800,100:180])\n",
    "    mm.append(ssd)"
   ]
  },
  {
   "cell_type": "code",
   "execution_count": 356,
   "metadata": {},
   "outputs": [
    {
     "data": {
      "text/plain": [
       "(-0.09999999999999831, 1.1000000000000028)"
      ]
     },
     "execution_count": 356,
     "metadata": {},
     "output_type": "execute_result"
    }
   ],
   "source": [
    "c[np.argmin(mm)]"
   ]
  },
  {
   "cell_type": "code",
   "execution_count": 613,
   "metadata": {},
   "outputs": [],
   "source": [
    "import skimage as ski\n",
    "from skimage.transform import warp"
   ]
  },
  {
   "cell_type": "code",
   "execution_count": 600,
   "metadata": {},
   "outputs": [],
   "source": [
    "a = np.zeros((10,10))\n",
    "b = np.zeros((10,10))"
   ]
  },
  {
   "cell_type": "code",
   "execution_count": 601,
   "metadata": {},
   "outputs": [],
   "source": [
    "a[4:6,3:5] = 1\n",
    "b[3:5,3:5] = 1"
   ]
  },
  {
   "cell_type": "code",
   "execution_count": 604,
   "metadata": {},
   "outputs": [
    {
     "data": {
      "text/plain": [
       "<matplotlib.image.AxesImage at 0x1f6a1d950>"
      ]
     },
     "execution_count": 604,
     "metadata": {},
     "output_type": "execute_result"
    },
    {
     "data": {
      "image/png": "[encoded data removed]",
      "text/plain": [
       "<Figure size 640x480 with 1 Axes>"
      ]
     },
     "metadata": {},
     "output_type": "display_data"
    }
   ],
   "source": [
    "plt.imshow(a)\n",
    "# plt.imshow(b)"
   ]
  },
  {
   "cell_type": "code",
   "execution_count": null,
   "metadata": {},
   "outputs": [],
   "source": []
  }
 ],
 "metadata": {
  "kernelspec": {
   "display_name": "ImageProc_2",
   "language": "python",
   "name": "python3"
  },
  "language_info": {
   "codemirror_mode": {
    "name": "ipython",
    "version": 3
   },
   "file_extension": ".py",
   "mimetype": "text/x-python",
   "name": "python",
   "nbconvert_exporter": "python",
   "pygments_lexer": "ipython3",
   "version": "3.11.7"
  }
 },
 "nbformat": 4,
 "nbformat_minor": 2
}
