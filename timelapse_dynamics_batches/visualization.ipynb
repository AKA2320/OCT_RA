{
 "cells": [
  {
   "cell_type": "code",
   "execution_count": 2,
   "metadata": {},
   "outputs": [],
   "source": [
    "import numpy as np\n",
    "import pickle\n",
    "from sklearn.cluster import KMeans,MiniBatchKMeans\n",
    "import pydicom as dicom\n",
    "import matplotlib.pylab as plt\n",
    "import os\n",
    "import cv2\n",
    "from natsort import natsorted\n",
    "from scipy import ndimage as scp\n",
    "from tqdm import tqdm\n",
    "import time\n",
    "import sys\n",
    "from skimage.exposure import equalize_hist\n",
    "from skimage.exposure import equalize_adapthist\n",
    "from utils import *"
   ]
  },
  {
   "cell_type": "code",
   "execution_count": 10,
   "metadata": {},
   "outputs": [
    {
     "data": {
      "application/vnd.jupyter.widget-view+json": {
       "model_id": "6ffacdd669ef44119e1d25caa436915e",
       "version_major": 2,
       "version_minor": 0
      },
      "text/plain": [
       "interactive(children=(IntSlider(value=0, description='Batch:', max=14), IntSlider(value=0, description='Slice:…"
      ]
     },
     "metadata": {},
     "output_type": "display_data"
    },
    {
     "data": {
      "text/plain": [
       "<function __main__.visualize_images(batch, slice_index)>"
      ]
     },
     "execution_count": 10,
     "metadata": {},
     "output_type": "execute_result"
    }
   ],
   "source": [
    "import numpy as np\n",
    "import matplotlib.pyplot as plt\n",
    "from ipywidgets import interact, Dropdown, IntSlider\n",
    "from IPython.display import display\n",
    "\n",
    "with open('rgb_withH2O2_top.pickle', 'rb') as f:\n",
    "    data = pickle.load(f).transpose(0,2,1,3,4)\n",
    "\n",
    "def visualize_images(batch, slice_index):\n",
    "    \"\"\"\n",
    "    Display a single image from the 5D data array based on selected batch and slice index.\n",
    "    \"\"\"\n",
    "    image = data[batch, slice_index]\n",
    "    \n",
    "    plt.figure(figsize=(5, 5))\n",
    "    plt.imshow(image)\n",
    "    plt.axis(\"off\")\n",
    "    plt.title(f\"Batch: {batch}, Slice: {slice_index}\")\n",
    "    plt.show()\n",
    "\n",
    "# Create sliders for batch and slice\n",
    "batch_slider = IntSlider(\n",
    "    value=0,\n",
    "    min=0,\n",
    "    max=data.shape[0] - 1,\n",
    "    step=1,\n",
    "    description=\"Batch:\",\n",
    "    continuous_update=True  # Ensures smooth updates\n",
    ")\n",
    "slice_slider = IntSlider(\n",
    "    value=0,\n",
    "    min=0,\n",
    "    max=data.shape[1] - 1,\n",
    "    step=1,\n",
    "    description=\"Slice:\",\n",
    "    continuous_update=True  # Ensures smooth updates\n",
    ")\n",
    "\n",
    "# Set up the interactive visualization\n",
    "interact(visualize_images, batch=batch_slider, slice_index=slice_slider)"
   ]
  },
  {
   "cell_type": "code",
   "execution_count": null,
   "metadata": {},
   "outputs": [],
   "source": []
  }
 ],
 "metadata": {
  "kernelspec": {
   "display_name": "ImageProc_2",
   "language": "python",
   "name": "python3"
  },
  "language_info": {
   "codemirror_mode": {
    "name": "ipython",
    "version": 3
   },
   "file_extension": ".py",
   "mimetype": "text/x-python",
   "name": "python",
   "nbconvert_exporter": "python",
   "pygments_lexer": "ipython3",
   "version": "3.11.7"
  }
 },
 "nbformat": 4,
 "nbformat_minor": 2
}
