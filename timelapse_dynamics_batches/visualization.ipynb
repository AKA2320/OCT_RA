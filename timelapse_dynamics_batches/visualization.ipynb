{
 "cells": [
  {
   "cell_type": "code",
   "execution_count": 2,
   "metadata": {},
   "outputs": [],
   "source": [
    "import numpy as np\n",
    "import pickle\n",
    "import pydicom as dicom\n",
    "import matplotlib.pylab as plt\n",
    "import os\n",
    "import cv2\n",
    "from natsort import natsorted\n",
    "from scipy import ndimage as scp\n",
    "from tqdm import tqdm\n",
    "import time\n",
    "import sys\n",
    "from utils import *\n",
    "import numpy as np\n",
    "import matplotlib.pyplot as plt\n",
    "from ipywidgets import interact, Dropdown, IntSlider\n",
    "from IPython.display import display\n",
    "from PIL import Image"
   ]
  },
  {
   "cell_type": "code",
   "execution_count": null,
   "metadata": {},
   "outputs": [
    {
     "data": {
      "application/vnd.jupyter.widget-view+json": {
       "model_id": "aa5cfdcaa88c485da4e5959b1d71d600",
       "version_major": 2,
       "version_minor": 0
      },
      "text/plain": [
       "interactive(children=(IntSlider(value=0, description='Batch:', max=14), IntSlider(value=0, description='Slice:…"
      ]
     },
     "metadata": {},
     "output_type": "display_data"
    },
    {
     "data": {
      "text/plain": [
       "<function __main__.visualize_images(batch, slice_index)>"
      ]
     },
     "execution_count": 6,
     "metadata": {},
     "output_type": "execute_result"
    }
   ],
   "source": [
    "# with open('rgb_data_combined/rgb_withoutH2O2_standard_inter.pickle', 'rb') as f:\n",
    "with open('/Users/akapatil/Documents/OCT/timelapse_dynamics_batches/avg_data/avg_withH2O2_standard_inter.pickle','rb') as f:\n",
    "    data = pickle.load(f).transpose(0,2,1,3,4)\n",
    "    # data = pickle.load(f)[..., ::-1]\n",
    "\n",
    "def visualize_images(batch, slice_index):\n",
    "    image = data[batch, slice_index]\n",
    "    \n",
    "    plt.figure(figsize=(5, 5))\n",
    "    plt.imshow(image,cmap='gray')\n",
    "    plt.axis(\"off\")\n",
    "    plt.title(f\"Batch: {batch}, Slice: {slice_index}\")\n",
    "    plt.show()\n",
    "\n",
    "# Create sliders for batch and slice\n",
    "batch_slider = IntSlider(\n",
    "    value=0,\n",
    "    min=0,\n",
    "    max=data.shape[0] - 1,\n",
    "    step=1,\n",
    "    description=\"Batch:\",\n",
    "    continuous_update=True  # Ensures smooth updates\n",
    ")\n",
    "slice_slider = IntSlider(\n",
    "    value=0,\n",
    "    min=0,\n",
    "    max=data.shape[1] - 1,\n",
    "    step=1,\n",
    "    description=\"Slice:\",\n",
    "    continuous_update=True  # Ensures smooth updates\n",
    ")\n",
    "\n",
    "# Set up the interactive visualization\n",
    "interact(visualize_images, batch=batch_slider, slice_index=slice_slider)"
   ]
  },
  {
   "cell_type": "code",
   "execution_count": 55,
   "metadata": {},
   "outputs": [],
   "source": [
    "# with open('avg_data_withH2O2_top.pickle', 'rb') as f:\n",
    "#     data = pickle.load(f).transpose(0,2,1,3,4)\n",
    "\n",
    "# os.makedirs('test_wi', exist_ok=True)\n",
    "# for i in range(data.shape[0]):\n",
    "#     cv2.imwrite(f'test_wi/rgb_{i}.PNG', data[i,24])\n",
    "\n",
    "# # os.makedirs(f'viz/enface/{datapath}', exist_ok=True)\n",
    "# # for i in range(data.shape[0]):\n",
    "# #     cv2.imwrite(f'viz/enface/{datapath}/rgb_{i}.PNG', data[i,24])\n",
    "\n",
    "# # # os.makedirs(f'viz/front/{datapath}', exist_ok=True)\n",
    "# # # for i in range(data.shape[0]):\n",
    "# # #     cv2.imwrite(f'viz/front/{datapath}/rgb_{i}.PNG', data[i,24])"
   ]
  },
  {
   "cell_type": "code",
   "execution_count": 22,
   "metadata": {},
   "outputs": [],
   "source": [
    "with open('/Users/akapatil/Documents/OCT/timelapse_dynamics_batches/avg_data/avg_withoutH2O2_standard_inter.pickle', 'rb') as f:\n",
    "    data = pickle.load(f).transpose(0,2,1,3)"
   ]
  },
  {
   "cell_type": "code",
   "execution_count": 35,
   "metadata": {},
   "outputs": [
    {
     "data": {
      "text/plain": [
       "True"
      ]
     },
     "execution_count": 35,
     "metadata": {},
     "output_type": "execute_result"
    }
   ],
   "source": [
    "with open('avg_data/avg_withH2O2_standard_inter.pickle', 'rb') as f:\n",
    "    data = pickle.load(f).transpose(0,2,1,3)\n",
    "cv2.imwrite('presentation_static_dOCT/avg_withH2O2_standard_inter.PNG',data[5,48,:,:])"
   ]
  },
  {
   "cell_type": "code",
   "execution_count": 23,
   "metadata": {},
   "outputs": [
    {
     "name": "stdout",
     "output_type": "stream",
     "text": [
      "GIF saved with 7 FPS\n"
     ]
    }
   ],
   "source": [
    "gen_gif(data[:,55,:,:],'avg_gif/avg_withoutH2O2_standard_inter.gif')"
   ]
  },
  {
   "cell_type": "code",
   "execution_count": 9,
   "metadata": {},
   "outputs": [],
   "source": [
    "def gen_gif(data,path,fps = 7):\n",
    "    pil_images = []\n",
    "    for i in range(data.shape[0]):\n",
    "        pil_images.append(Image.fromarray(data[i]))\n",
    "\n",
    "    duration = int(1000 / fps)\n",
    "    os.makedirs(os.path.dirname(path),exist_ok=True)\n",
    "\n",
    "    pil_images[0].save(\n",
    "        path,\n",
    "        save_all=True,\n",
    "        append_images=pil_images[1:],\n",
    "        optimize=False,\n",
    "        duration=duration,  # Set based on FPS\n",
    "        loop=0  # 0 means infinite loop\n",
    "    )\n",
    "    print(f\"GIF saved with {fps} FPS\")\n",
    "\n"
   ]
  },
  {
   "cell_type": "code",
   "execution_count": null,
   "metadata": {},
   "outputs": [],
   "source": []
  }
 ],
 "metadata": {
  "kernelspec": {
   "display_name": "ImageProc_2",
   "language": "python",
   "name": "python3"
  },
  "language_info": {
   "codemirror_mode": {
    "name": "ipython",
    "version": 3
   },
   "file_extension": ".py",
   "mimetype": "text/x-python",
   "name": "python",
   "nbconvert_exporter": "python",
   "pygments_lexer": "ipython3",
   "version": "3.11.7"
  }
 },
 "nbformat": 4,
 "nbformat_minor": 2
}
