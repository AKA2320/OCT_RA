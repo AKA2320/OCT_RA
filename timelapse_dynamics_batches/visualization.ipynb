{
 "cells": [
  {
   "cell_type": "code",
   "execution_count": 1,
   "metadata": {},
   "outputs": [],
   "source": [
    "import numpy as np\n",
    "import pickle\n",
    "import pydicom as dicom\n",
    "import matplotlib.pylab as plt\n",
    "import os\n",
    "import cv2\n",
    "from natsort import natsorted\n",
    "from scipy import ndimage as scp\n",
    "from tqdm import tqdm\n",
    "import time\n",
    "import sys\n",
    "from utils import *\n",
    "import numpy as np\n",
    "import matplotlib.pyplot as plt\n",
    "from ipywidgets import interact, Dropdown, IntSlider\n",
    "from IPython.display import display\n",
    "from PIL import Image"
   ]
  },
  {
   "cell_type": "code",
   "execution_count": null,
   "metadata": {},
   "outputs": [
    {
     "ename": "FileNotFoundError",
     "evalue": "[Errno 2] No such file or directory: 'rgb_data_combined/rgb_withH2O2_top.pickle'",
     "output_type": "error",
     "traceback": [
      "\u001b[0;31m---------------------------------------------------------------------------\u001b[0m",
      "\u001b[0;31mFileNotFoundError\u001b[0m                         Traceback (most recent call last)",
      "Cell \u001b[0;32mIn[14], line 1\u001b[0m\n\u001b[0;32m----> 1\u001b[0m \u001b[38;5;28;01mwith\u001b[39;00m \u001b[38;5;28;43mopen\u001b[39;49m\u001b[43m(\u001b[49m\u001b[38;5;124;43m'\u001b[39;49m\u001b[38;5;124;43mrgb_data_combined/rgb_withH2O2_top.pickle\u001b[39;49m\u001b[38;5;124;43m'\u001b[39;49m\u001b[43m,\u001b[49m\u001b[43m \u001b[49m\u001b[38;5;124;43m'\u001b[39;49m\u001b[38;5;124;43mrb\u001b[39;49m\u001b[38;5;124;43m'\u001b[39;49m\u001b[43m)\u001b[49m \u001b[38;5;28;01mas\u001b[39;00m f:\n\u001b[1;32m      2\u001b[0m     data \u001b[38;5;241m=\u001b[39m pickle\u001b[38;5;241m.\u001b[39mload(f)\u001b[38;5;241m.\u001b[39mtranspose(\u001b[38;5;241m0\u001b[39m,\u001b[38;5;241m2\u001b[39m,\u001b[38;5;241m1\u001b[39m,\u001b[38;5;241m3\u001b[39m,\u001b[38;5;241m4\u001b[39m)[\u001b[38;5;241m.\u001b[39m\u001b[38;5;241m.\u001b[39m\u001b[38;5;241m.\u001b[39m, ::\u001b[38;5;241m-\u001b[39m\u001b[38;5;241m1\u001b[39m]\n\u001b[1;32m      3\u001b[0m     \u001b[38;5;66;03m# data = pickle.load(f)[..., ::-1]\u001b[39;00m\n",
      "File \u001b[0;32m~/opt/anaconda3/envs/ImageProc_2/lib/python3.11/site-packages/IPython/core/interactiveshell.py:284\u001b[0m, in \u001b[0;36m_modified_open\u001b[0;34m(file, *args, **kwargs)\u001b[0m\n\u001b[1;32m    277\u001b[0m \u001b[38;5;28;01mif\u001b[39;00m file \u001b[38;5;129;01min\u001b[39;00m {\u001b[38;5;241m0\u001b[39m, \u001b[38;5;241m1\u001b[39m, \u001b[38;5;241m2\u001b[39m}:\n\u001b[1;32m    278\u001b[0m     \u001b[38;5;28;01mraise\u001b[39;00m \u001b[38;5;167;01mValueError\u001b[39;00m(\n\u001b[1;32m    279\u001b[0m         \u001b[38;5;124mf\u001b[39m\u001b[38;5;124m\"\u001b[39m\u001b[38;5;124mIPython won\u001b[39m\u001b[38;5;124m'\u001b[39m\u001b[38;5;124mt let you open fd=\u001b[39m\u001b[38;5;132;01m{\u001b[39;00mfile\u001b[38;5;132;01m}\u001b[39;00m\u001b[38;5;124m by default \u001b[39m\u001b[38;5;124m\"\u001b[39m\n\u001b[1;32m    280\u001b[0m         \u001b[38;5;124m\"\u001b[39m\u001b[38;5;124mas it is likely to crash IPython. If you know what you are doing, \u001b[39m\u001b[38;5;124m\"\u001b[39m\n\u001b[1;32m    281\u001b[0m         \u001b[38;5;124m\"\u001b[39m\u001b[38;5;124myou can use builtins\u001b[39m\u001b[38;5;124m'\u001b[39m\u001b[38;5;124m open.\u001b[39m\u001b[38;5;124m\"\u001b[39m\n\u001b[1;32m    282\u001b[0m     )\n\u001b[0;32m--> 284\u001b[0m \u001b[38;5;28;01mreturn\u001b[39;00m \u001b[43mio_open\u001b[49m\u001b[43m(\u001b[49m\u001b[43mfile\u001b[49m\u001b[43m,\u001b[49m\u001b[43m \u001b[49m\u001b[38;5;241;43m*\u001b[39;49m\u001b[43margs\u001b[49m\u001b[43m,\u001b[49m\u001b[43m \u001b[49m\u001b[38;5;241;43m*\u001b[39;49m\u001b[38;5;241;43m*\u001b[39;49m\u001b[43mkwargs\u001b[49m\u001b[43m)\u001b[49m\n",
      "\u001b[0;31mFileNotFoundError\u001b[0m: [Errno 2] No such file or directory: 'rgb_data_combined/rgb_withH2O2_top.pickle'"
     ]
    }
   ],
   "source": [
    "with open('rgb_data_combined/rgb_withH2O2_top.pickle', 'rb') as f:\n",
    "    data = pickle.load(f).transpose(0,2,1,3,4)[..., ::-1]\n",
    "    # data = pickle.load(f)[..., ::-1]\n",
    "\n",
    "def visualize_images(batch, slice_index):\n",
    "    image = data[batch, slice_index]\n",
    "    \n",
    "    plt.figure(figsize=(5, 5))\n",
    "    plt.imshow(image)\n",
    "    plt.axis(\"off\")\n",
    "    plt.title(f\"Batch: {batch}, Slice: {slice_index}\")\n",
    "    plt.show()\n",
    "\n",
    "# Create sliders for batch and slice\n",
    "batch_slider = IntSlider(\n",
    "    value=0,\n",
    "    min=0,\n",
    "    max=data.shape[0] - 1,\n",
    "    step=1,\n",
    "    description=\"Batch:\",\n",
    "    continuous_update=True  # Ensures smooth updates\n",
    ")\n",
    "slice_slider = IntSlider(\n",
    "    value=0,\n",
    "    min=0,\n",
    "    max=data.shape[1] - 1,\n",
    "    step=1,\n",
    "    description=\"Slice:\",\n",
    "    continuous_update=True  # Ensures smooth updates\n",
    ")\n",
    "\n",
    "# Set up the interactive visualization\n",
    "interact(visualize_images, batch=batch_slider, slice_index=slice_slider)"
   ]
  },
  {
   "cell_type": "code",
   "execution_count": 55,
   "metadata": {},
   "outputs": [],
   "source": [
    "# with open('avg_data_withH2O2_top.pickle', 'rb') as f:\n",
    "#     data = pickle.load(f).transpose(0,2,1,3,4)\n",
    "\n",
    "# os.makedirs('test_wi', exist_ok=True)\n",
    "# for i in range(data.shape[0]):\n",
    "#     cv2.imwrite(f'test_wi/rgb_{i}.PNG', data[i,24])\n",
    "\n",
    "# # os.makedirs(f'viz/enface/{datapath}', exist_ok=True)\n",
    "# # for i in range(data.shape[0]):\n",
    "# #     cv2.imwrite(f'viz/enface/{datapath}/rgb_{i}.PNG', data[i,24])\n",
    "\n",
    "# # # os.makedirs(f'viz/front/{datapath}', exist_ok=True)\n",
    "# # # for i in range(data.shape[0]):\n",
    "# # #     cv2.imwrite(f'viz/front/{datapath}/rgb_{i}.PNG', data[i,24])"
   ]
  },
  {
   "cell_type": "code",
   "execution_count": 12,
   "metadata": {},
   "outputs": [],
   "source": [
    "with open('rgb_data_combined/rgb_withoutH2O2_self_inter.pickle', 'rb') as f:\n",
    "    data = pickle.load(f).transpose(0,2,1,3,4)[..., ::-1]"
   ]
  },
  {
   "cell_type": "code",
   "execution_count": 13,
   "metadata": {},
   "outputs": [
    {
     "name": "stdout",
     "output_type": "stream",
     "text": [
      "GIF saved with 7 FPS\n"
     ]
    }
   ],
   "source": [
    "gen_gif(data[:,24,:,:],'gif/rgb_withoutH2O2_self_inter.gif')"
   ]
  },
  {
   "cell_type": "code",
   "execution_count": 10,
   "metadata": {},
   "outputs": [],
   "source": [
    "def gen_gif(data,path,fps = 7):\n",
    "    pil_images = []\n",
    "    for i in range(data.shape[0]):\n",
    "        pil_images.append(Image.fromarray(data[i]))\n",
    "\n",
    "    duration = int(1000 / fps)\n",
    "    os.makedirs(os.path.dirname(path),exist_ok=True)\n",
    "\n",
    "    pil_images[0].save(\n",
    "        path,\n",
    "        save_all=True,\n",
    "        append_images=pil_images[1:],\n",
    "        optimize=False,\n",
    "        duration=duration,  # Set based on FPS\n",
    "        loop=0  # 0 means infinite loop\n",
    "    )\n",
    "    print(f\"GIF saved with {fps} FPS\")\n",
    "\n"
   ]
  },
  {
   "cell_type": "code",
   "execution_count": null,
   "metadata": {},
   "outputs": [],
   "source": []
  }
 ],
 "metadata": {
  "kernelspec": {
   "display_name": "ImageProc_2",
   "language": "python",
   "name": "python3"
  },
  "language_info": {
   "codemirror_mode": {
    "name": "ipython",
    "version": 3
   },
   "file_extension": ".py",
   "mimetype": "text/x-python",
   "name": "python",
   "nbconvert_exporter": "python",
   "pygments_lexer": "ipython3",
   "version": "3.11.7"
  }
 },
 "nbformat": 4,
 "nbformat_minor": 2
}
